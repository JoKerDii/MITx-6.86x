{
 "metadata": {
  "language_info": {
   "codemirror_mode": {
    "name": "ipython",
    "version": 3
   },
   "file_extension": ".py",
   "mimetype": "text/x-python",
   "name": "python",
   "nbconvert_exporter": "python",
   "pygments_lexer": "ipython3",
   "version": "3.6.12-final"
  },
  "orig_nbformat": 2,
  "kernelspec": {
   "name": "python3",
   "display_name": "Python 3",
   "language": "python"
  }
 },
 "nbformat": 4,
 "nbformat_minor": 2,
 "cells": [
  {
   "cell_type": "code",
   "execution_count": 9,
   "metadata": {},
   "outputs": [
    {
     "output_type": "execute_result",
     "data": {
      "text/plain": [
       "(5, 1)"
      ]
     },
     "metadata": {},
     "execution_count": 9
    }
   ],
   "source": [
    "import numpy as np\n",
    "def randomization(n):\n",
    "    \"\"\"\n",
    "    Arg:\n",
    "      n - an integer\n",
    "    Returns:\n",
    "      A - a randomly-generated nx1 Numpy array.\n",
    "    \"\"\"\n",
    "    # Your code here\n",
    "    # A = np.random.random(n).reshape((n,1))\n",
    "    A = np.random.random([n,1])\n",
    "    return A\n",
    "    raise NotImplementedError\n",
    "\n",
    "randomization(5).shape\n",
    "# correct.\n"
   ]
  },
  {
   "cell_type": "code",
   "execution_count": 7,
   "metadata": {},
   "outputs": [
    {
     "output_type": "execute_result",
     "data": {
      "text/plain": [
       "(5, 10)"
      ]
     },
     "metadata": {},
     "execution_count": 7
    }
   ],
   "source": [
    "def operations(h, w):\n",
    "    \"\"\"\n",
    "    Takes two inputs, h and w, and makes two Numpy arrays A and B of size\n",
    "    h x w, and returns A, B, and s, the sum of A and B.\n",
    "\n",
    "    Arg:\n",
    "      h - an integer describing the height of A and B\n",
    "      w - an integer describing the width of A and B\n",
    "    Returns (in this order):\n",
    "      A - a randomly-generated h x w Numpy array.\n",
    "      B - a randomly-generated h x w Numpy array.\n",
    "      s - the sum of A and B.\n",
    "    \"\"\"\n",
    "    # Your code here\n",
    "    A = np.random.rand(h,w)\n",
    "    B = np.random.rand(h,w)\n",
    "    s = A + B\n",
    "    return A, B, s\n",
    "    raise NotImplementedError\n",
    "A, B, s = operations(5, 10)\n",
    "# correct."
   ]
  },
  {
   "cell_type": "code",
   "execution_count": 11,
   "metadata": {},
   "outputs": [
    {
     "output_type": "execute_result",
     "data": {
      "text/plain": [
       "2.5629528111299344"
      ]
     },
     "metadata": {},
     "execution_count": 11
    }
   ],
   "source": [
    "def norm(A, B):\n",
    "    \"\"\"\n",
    "    Takes two Numpy column arrays, A and B, and returns the L2 norm of their\n",
    "    sum.\n",
    "\n",
    "    Arg:\n",
    "      A - a Numpy array\n",
    "      B - a Numpy array\n",
    "    Returns:\n",
    "      s - the L2 norm of A+B.\n",
    "    \"\"\"\n",
    "    # Your code here\n",
    "    s = np.sqrt(np.sum(np.square(A + B)))\n",
    "    return s\n",
    "    raise NotImplementedError\n",
    "\n",
    "A= np.random.random(4)\n",
    "B= np.random.random(4)\n",
    "norm(A, B)\n",
    "# correct."
   ]
  },
  {
   "cell_type": "code",
   "execution_count": 23,
   "metadata": {},
   "outputs": [
    {
     "output_type": "execute_result",
     "data": {
      "text/plain": [
       "(1, 1)"
      ]
     },
     "metadata": {},
     "execution_count": 23
    }
   ],
   "source": [
    "def neural_network(inputs, weights):\n",
    "    \"\"\"\n",
    "    Takes an input vector and runs it through a 1-layer neural network\n",
    "    with a given weight matrix and returns the output.\n",
    "\n",
    "    Arg:\n",
    "      inputs - 2 x 1 NumPy array\n",
    "      weights - 2 x 1 NumPy array\n",
    "    Returns (in this order):\n",
    "      out - a 1 x 1 NumPy array, representing the output of the neural network\n",
    "    \"\"\"\n",
    "    # Your code here\n",
    "    out = np.tanh(np.matmul(weights.transpose(), inputs))\n",
    "    return out\n",
    "    raise NotImplementedError\n",
    "inputs = np.random.random([2,1])\n",
    "weights = np.random.random([2,1])\n",
    "neural_network(inputs, weights)\n",
    "# correct."
   ]
  },
  {
   "cell_type": "code",
   "execution_count": 25,
   "metadata": {},
   "outputs": [
    {
     "output_type": "execute_result",
     "data": {
      "text/plain": [
       "1.5"
      ]
     },
     "metadata": {},
     "execution_count": 25
    }
   ],
   "source": [
    "def scalar_function(x, y):\n",
    "    \"\"\"\n",
    "    Returns the f(x,y) defined in the problem statement.\n",
    "    \"\"\"\n",
    "    # Your code here\n",
    "    return x*y if x <= y else x/y\n",
    "    raise NotImplementedError\n",
    "scalar_function(15, 10)\n",
    "# correct."
   ]
  },
  {
   "cell_type": "code",
   "execution_count": 31,
   "metadata": {},
   "outputs": [
    {
     "output_type": "execute_result",
     "data": {
      "text/plain": [
       "array([1.16539628, 0.09991673])"
      ]
     },
     "metadata": {},
     "execution_count": 31
    }
   ],
   "source": [
    "def vector_function(x, y):\n",
    "    \"\"\"\n",
    "    Make sure vector_function can deal with vector input x,y\n",
    "    \"\"\"\n",
    "    # Your code here\n",
    "    f = np.vectorize(scalar_function)\n",
    "    return f(x,y)\n",
    "    raise NotImplementedError\n",
    "x = np.random.random(2)\n",
    "y = np.random.random(2)\n",
    "vector_function(x, y)\n",
    "# correct."
   ]
  },
  {
   "cell_type": "code",
   "execution_count": 5,
   "metadata": {},
   "outputs": [
    {
     "output_type": "execute_result",
     "data": {
      "text/plain": [
       "[3, 3, 3, 6, 6, 6, 9, 9, 9]"
      ]
     },
     "metadata": {},
     "execution_count": 5
    }
   ],
   "source": []
  }
 ]
}